{
 "cells": [
  {
   "cell_type": "code",
   "execution_count": 1,
   "metadata": {},
   "outputs": [
    {
     "name": "stderr",
     "output_type": "stream",
     "text": [
      "D:\\Anaconda3\\lib\\site-packages\\h5py\\__init__.py:34: FutureWarning: Conversion of the second argument of issubdtype from `float` to `np.floating` is deprecated. In future, it will be treated as `np.float64 == np.dtype(float).type`.\n",
      "  from ._conv import register_converters as _register_converters\n"
     ]
    }
   ],
   "source": [
    "import re\n",
    "\n",
    "import pandas as pd\n",
    "import numpy as np\n",
    "\n",
    "from matplotlib import pyplot as plt\n",
    "%matplotlib inline\n",
    "\n",
    "from nltk import SnowballStemmer\n",
    "from nltk.corpus import stopwords\n",
    "\n",
    "from sklearn.model_selection import train_test_split\n",
    "from sklearn.preprocessing import OneHotEncoder, LabelEncoder\n",
    "\n",
    "from tensorflow.keras.preprocessing.text import Tokenizer\n",
    "from tensorflow.keras.preprocessing.sequence import pad_sequences\n",
    "\n",
    "from tensorflow.keras.models import Sequential\n",
    "from tensorflow.keras.layers import Dense, Flatten, LSTM, Conv1D, MaxPooling1D, Dropout, Activation , Embedding, GlobalMaxPooling1D, Bidirectional\n",
    "\n",
    "from tensorflow.keras.callbacks import EarlyStopping"
   ]
  },
  {
   "cell_type": "code",
   "execution_count": 2,
   "metadata": {},
   "outputs": [
    {
     "name": "stdout",
     "output_type": "stream",
     "text": [
      "[name: \"/device:CPU:0\"\n",
      "device_type: \"CPU\"\n",
      "memory_limit: 268435456\n",
      "locality {\n",
      "}\n",
      "incarnation: 14463902100409680022\n",
      ", name: \"/device:GPU:0\"\n",
      "device_type: \"GPU\"\n",
      "memory_limit: 3157314764\n",
      "locality {\n",
      "  bus_id: 1\n",
      "  links {\n",
      "  }\n",
      "}\n",
      "incarnation: 13497413347889092819\n",
      "physical_device_desc: \"device: 0, name: GeForce GTX 1050 Ti, pci bus id: 0000:01:00.0, compute capability: 6.1\"\n",
      "]\n"
     ]
    }
   ],
   "source": [
    "from tensorflow.python.client import device_lib\n",
    "print(device_lib.list_local_devices())"
   ]
  },
  {
   "cell_type": "code",
   "execution_count": 3,
   "metadata": {
    "collapsed": true
   },
   "outputs": [],
   "source": [
    "dataset_dir = 'dataset\\emotion_dataset.csv'\n",
    "glove_dir = 'glove\\glove.twitter.27B.100d.txt'"
   ]
  },
  {
   "cell_type": "code",
   "execution_count": 4,
   "metadata": {
    "collapsed": true
   },
   "outputs": [],
   "source": [
    "nltk_stop_words = list(stopwords.words('english'))"
   ]
  },
  {
   "cell_type": "code",
   "execution_count": 5,
   "metadata": {},
   "outputs": [
    {
     "data": {
      "text/html": [
       "<div>\n",
       "<style>\n",
       "    .dataframe thead tr:only-child th {\n",
       "        text-align: right;\n",
       "    }\n",
       "\n",
       "    .dataframe thead th {\n",
       "        text-align: left;\n",
       "    }\n",
       "\n",
       "    .dataframe tbody tr th {\n",
       "        vertical-align: top;\n",
       "    }\n",
       "</style>\n",
       "<table border=\"1\" class=\"dataframe\">\n",
       "  <thead>\n",
       "    <tr style=\"text-align: right;\">\n",
       "      <th></th>\n",
       "      <th>emotion</th>\n",
       "      <th>text</th>\n",
       "    </tr>\n",
       "  </thead>\n",
       "  <tbody>\n",
       "    <tr>\n",
       "      <th>0</th>\n",
       "      <td>anger</td>\n",
       "      <td>fuckin'm transtelecom</td>\n",
       "    </tr>\n",
       "    <tr>\n",
       "      <th>1</th>\n",
       "      <td>anger</td>\n",
       "      <td>Working   But it's Fridaaaayyyyy</td>\n",
       "    </tr>\n",
       "    <tr>\n",
       "      <th>2</th>\n",
       "      <td>anger</td>\n",
       "      <td>Packing  I don't like it..</td>\n",
       "    </tr>\n",
       "    <tr>\n",
       "      <th>3</th>\n",
       "      <td>anger</td>\n",
       "      <td>I tried to dye my hair and all i got was a blo...</td>\n",
       "    </tr>\n",
       "    <tr>\n",
       "      <th>4</th>\n",
       "      <td>anger</td>\n",
       "      <td>&amp;quot;locked up abroad&amp;quot; makes bein half b...</td>\n",
       "    </tr>\n",
       "  </tbody>\n",
       "</table>\n",
       "</div>"
      ],
      "text/plain": [
       "  emotion                                               text\n",
       "0   anger                              fuckin'm transtelecom\n",
       "1   anger                   Working   But it's Fridaaaayyyyy\n",
       "2   anger                         Packing  I don't like it..\n",
       "3   anger  I tried to dye my hair and all i got was a blo...\n",
       "4   anger  &quot;locked up abroad&quot; makes bein half b..."
      ]
     },
     "execution_count": 5,
     "metadata": {},
     "output_type": "execute_result"
    }
   ],
   "source": [
    "dataset = pd.read_csv(dataset_dir, sep=',', index_col=0)\n",
    "dataset.head()"
   ]
  },
  {
   "cell_type": "code",
   "execution_count": 6,
   "metadata": {},
   "outputs": [
    {
     "data": {
      "text/html": [
       "<div>\n",
       "<style>\n",
       "    .dataframe thead tr:only-child th {\n",
       "        text-align: right;\n",
       "    }\n",
       "\n",
       "    .dataframe thead th {\n",
       "        text-align: left;\n",
       "    }\n",
       "\n",
       "    .dataframe tbody tr th {\n",
       "        vertical-align: top;\n",
       "    }\n",
       "</style>\n",
       "<table border=\"1\" class=\"dataframe\">\n",
       "  <thead>\n",
       "    <tr style=\"text-align: right;\">\n",
       "      <th></th>\n",
       "      <th>emotion</th>\n",
       "      <th>text</th>\n",
       "    </tr>\n",
       "  </thead>\n",
       "  <tbody>\n",
       "    <tr>\n",
       "      <th>0</th>\n",
       "      <td>sadness</td>\n",
       "      <td>So Cal Dachshund Rescue found a home for my fo...</td>\n",
       "    </tr>\n",
       "    <tr>\n",
       "      <th>1</th>\n",
       "      <td>anger</td>\n",
       "      <td>My grandmother's brother had taken active part...</td>\n",
       "    </tr>\n",
       "    <tr>\n",
       "      <th>2</th>\n",
       "      <td>neutral</td>\n",
       "      <td>@iminditch yesh and that potato guy is online....</td>\n",
       "    </tr>\n",
       "    <tr>\n",
       "      <th>3</th>\n",
       "      <td>sadness</td>\n",
       "      <td>Sadly I am bprohibiting myself from tweeting t...</td>\n",
       "    </tr>\n",
       "    <tr>\n",
       "      <th>4</th>\n",
       "      <td>worry</td>\n",
       "      <td>@shondarhimes Sure you will tweet about this w...</td>\n",
       "    </tr>\n",
       "  </tbody>\n",
       "</table>\n",
       "</div>"
      ],
      "text/plain": [
       "   emotion                                               text\n",
       "0  sadness  So Cal Dachshund Rescue found a home for my fo...\n",
       "1    anger  My grandmother's brother had taken active part...\n",
       "2  neutral  @iminditch yesh and that potato guy is online....\n",
       "3  sadness  Sadly I am bprohibiting myself from tweeting t...\n",
       "4    worry  @shondarhimes Sure you will tweet about this w..."
      ]
     },
     "execution_count": 6,
     "metadata": {},
     "output_type": "execute_result"
    }
   ],
   "source": [
    "dataset = dataset.sample(frac=1).reset_index(drop=True)\n",
    "dataset.head()"
   ]
  },
  {
   "cell_type": "code",
   "execution_count": 7,
   "metadata": {
    "collapsed": true
   },
   "outputs": [],
   "source": [
    "emotion = np.array(dataset['emotion'])"
   ]
  },
  {
   "cell_type": "code",
   "execution_count": 8,
   "metadata": {},
   "outputs": [
    {
     "name": "stdout",
     "output_type": "stream",
     "text": [
      "['sadness' 'anger' 'neutral' 'worry' 'surprise' 'happiness' 'hate']\n"
     ]
    }
   ],
   "source": [
    "class_values = dataset['emotion'].unique()\n",
    "print(class_values)"
   ]
  },
  {
   "cell_type": "code",
   "execution_count": 9,
   "metadata": {},
   "outputs": [
    {
     "data": {
      "text/plain": [
       "emotion\n",
       "anger        1000\n",
       "happiness    1000\n",
       "hate         1000\n",
       "neutral      1000\n",
       "sadness      1000\n",
       "surprise     1000\n",
       "worry        1000\n",
       "Name: text, dtype: int64"
      ]
     },
     "execution_count": 9,
     "metadata": {},
     "output_type": "execute_result"
    }
   ],
   "source": [
    "dataset.groupby('emotion')['text'].count()"
   ]
  },
  {
   "cell_type": "code",
   "execution_count": 10,
   "metadata": {},
   "outputs": [
    {
     "data": {
      "text/plain": [
       "<matplotlib.axes._subplots.AxesSubplot at 0x226c2a2d748>"
      ]
     },
     "execution_count": 10,
     "metadata": {},
     "output_type": "execute_result"
    },
    {
     "data": {
      "image/png": "[encoded data removed]",
      "text/plain": [
       "<Figure size 432x288 with 1 Axes>"
      ]
     },
     "metadata": {},
     "output_type": "display_data"
    }
   ],
   "source": [
    "dataset.groupby('emotion')['text'].count().plot(kind='bar' , title= 'Emotion Distribution')"
   ]
  },
  {
   "cell_type": "code",
   "execution_count": 11,
   "metadata": {
    "collapsed": true
   },
   "outputs": [],
   "source": [
    "def preprocess_word(word):\n",
    "    # Remove punctuation\n",
    "    word = word.strip('\"?!,.():;')\n",
    "    # Convert more than 2 letter repetitions to 2 letter\n",
    "    # funnnnny --> funny\n",
    "    word = re.sub(r'(.)\\1+', r'\\1\\1', word)\n",
    "#     # Remove - & '\n",
    "#     word = re.sub(r'(-|\\')', '', word)\n",
    "    return word\n"
   ]
  },
  {
   "cell_type": "code",
   "execution_count": 12,
   "metadata": {},
   "outputs": [
    {
     "data": {
      "text/plain": [
       "array(['sadness', 'anger', 'neutral', ..., 'sadness', 'anger', 'neutral'],\n",
       "      dtype=object)"
      ]
     },
     "execution_count": 12,
     "metadata": {},
     "output_type": "execute_result"
    }
   ],
   "source": [
    "emotion"
   ]
  },
  {
   "cell_type": "code",
   "execution_count": 13,
   "metadata": {
    "collapsed": true
   },
   "outputs": [],
   "source": [
    "def is_valid_word(word):\n",
    "    # Check if word begins with an alphabet\n",
    "    return (re.search(r'^[a-zA-Z][a-z0-9A-Z\\._]*$', word) is not None)\n"
   ]
  },
  {
   "cell_type": "code",
   "execution_count": 14,
   "metadata": {
    "collapsed": true
   },
   "outputs": [],
   "source": [
    "def handle_emojis(tweet):\n",
    "    # Smile -- :), : ), :-), (:, ( :, (-:, :')\n",
    "    tweet = re.sub(r'(:\\s?\\)|:-\\)|\\(\\s?:|\\(-:|:\\'\\))', ' smile ', tweet)\n",
    "    # Laugh -- :D, : D, :-D, xD, x-D, XD, X-D\n",
    "    tweet = re.sub(r'(:\\s?D|:-D|x-?D|X-?D)', ' laugh ', tweet)\n",
    "    # Love -- <3, :*\n",
    "    tweet = re.sub(r'(<3|:\\*)', ' love ', tweet)\n",
    "    # Wink -- ;-), ;), ;-D, ;D, (;,  (-;\n",
    "    tweet = re.sub(r'(;-?\\)|;-?D|\\(-?;)', ' affection ', tweet)\n",
    "    # Sad -- :-(, : (, :(, ):, )-:\n",
    "    tweet = re.sub(r'(:\\s?\\(|:-\\(|\\)\\s?:|\\)-:)', ' sad ', tweet)\n",
    "    # Cry -- :,(, :'(, :\"(\n",
    "    tweet = re.sub(r'(:,\\(|:\\'\\(|:\"\\()', ' cry ', tweet)\n",
    "    return tweet"
   ]
  },
  {
   "cell_type": "code",
   "execution_count": 15,
   "metadata": {
    "collapsed": true
   },
   "outputs": [],
   "source": [
    "def preprocess_tweet(tweet):\n",
    "    processed_tweet = []\n",
    "    # Convert to lower case\n",
    "    tweet = tweet.lower()\n",
    "    #HTML removed\n",
    "    #html_process = BS(tweet, 'html.parser')\n",
    "    #tweet = html_process.get_tweet()\n",
    "    \n",
    "    tweet = re.sub(r\"what's\", \"what is \", tweet)\n",
    "    tweet = re.sub(r\"\\'s\", \" \", tweet)\n",
    "    tweet = re.sub(r\"\\'ve\", \" have \", tweet)\n",
    "    tweet = re.sub(r\"n't\", \" not \", tweet)\n",
    "    tweet = re.sub(r\"i'm\", \"i am \", tweet)\n",
    "    tweet = re.sub(r\"\\'re\", \" are \", tweet)\n",
    "    tweet = re.sub(r\"\\'d\", \" would \", tweet)\n",
    "    tweet = re.sub(r\"\\'ll\", \" will \", tweet)\n",
    "    \n",
    "    # Replaces URLs with the word URL\n",
    "    tweet = re.sub(r'((www\\.[\\S]+)|(https?://[\\S]+))', ' ', tweet)\n",
    "    # Replace @handle with the word USER_MENTION\n",
    "    tweet = re.sub(r'@[\\S]+', ' ', tweet)\n",
    "    # Replaces #hashtag with hashtag\n",
    "    tweet = re.sub(r'#(\\S+)', r' \\1 ', tweet)\n",
    "    # Remove RT (retweet)\n",
    "    tweet = re.sub(r'\\brt\\b', '', tweet)\n",
    "    # Replace 2+ dots with space\n",
    "    tweet = re.sub(r'\\.{2,}', ' ', tweet)\n",
    "    # Strip space, \" and ' from tweet\n",
    "    #tweet = tweet.strip(' \"\\'')\n",
    "    # Replace emojis with either EMO_POS or EMO_NEG\n",
    "    tweet = handle_emojis(tweet)\n",
    "    # Replace multiple spaces with a single space\n",
    "    tweet = re.sub(r'\\s+', ' ', tweet)\n",
    "    # Striping numbers from the tweet\n",
    "    tweet = re.sub(r'\\d+', '', tweet)\n",
    "    \n",
    "    tweet = re.sub(r\",\", \" \", tweet)\n",
    "    tweet = re.sub(r\"\\.\", \" \", tweet)\n",
    "    tweet = re.sub(r\"!\", \" ! \", tweet)\n",
    "    tweet = re.sub(r\"\\/\", \" \", tweet)\n",
    "    tweet = re.sub(r\"\\^\", \" ^ \", tweet)\n",
    "    tweet = re.sub(r\"\\+\", \" + \", tweet)\n",
    "    tweet = re.sub(r\"\\-\", \" - \", tweet)\n",
    "    tweet = re.sub(r\"\\=\", \" = \", tweet)\n",
    "    tweet = re.sub(r\"'\", \" \", tweet)\n",
    "    \n",
    "    \n",
    "    words = tweet.split()\n",
    "    \n",
    "    stemmer = SnowballStemmer('english')\n",
    "\n",
    "    #Removing Stop Words and Stemming the Words\n",
    "    for word in words:\n",
    "        word = preprocess_word(word)\n",
    "        if word not in nltk_stop_words and len(word)> 2:\n",
    "            if is_valid_word(word):\n",
    "                stemmed_words = stemmer.stem(word)\n",
    "                processed_tweet.append(word)\n",
    "\n",
    "    return ' '.join(processed_tweet)"
   ]
  },
  {
   "cell_type": "code",
   "execution_count": 16,
   "metadata": {},
   "outputs": [
    {
     "data": {
      "text/html": [
       "<div>\n",
       "<style>\n",
       "    .dataframe thead tr:only-child th {\n",
       "        text-align: right;\n",
       "    }\n",
       "\n",
       "    .dataframe thead th {\n",
       "        text-align: left;\n",
       "    }\n",
       "\n",
       "    .dataframe tbody tr th {\n",
       "        vertical-align: top;\n",
       "    }\n",
       "</style>\n",
       "<table border=\"1\" class=\"dataframe\">\n",
       "  <thead>\n",
       "    <tr style=\"text-align: right;\">\n",
       "      <th></th>\n",
       "      <th>emotion</th>\n",
       "      <th>text</th>\n",
       "    </tr>\n",
       "  </thead>\n",
       "  <tbody>\n",
       "    <tr>\n",
       "      <th>0</th>\n",
       "      <td>sadness</td>\n",
       "      <td>cal dachshund rescue found home foster pup max...</td>\n",
       "    </tr>\n",
       "    <tr>\n",
       "      <th>1</th>\n",
       "      <td>anger</td>\n",
       "      <td>grandmother brother taken active part resistan...</td>\n",
       "    </tr>\n",
       "    <tr>\n",
       "      <th>2</th>\n",
       "      <td>neutral</td>\n",
       "      <td>yesh potato guy online hes live</td>\n",
       "    </tr>\n",
       "    <tr>\n",
       "      <th>3</th>\n",
       "      <td>sadness</td>\n",
       "      <td>sadly bprohibiting tweeting tonight sorry</td>\n",
       "    </tr>\n",
       "    <tr>\n",
       "      <th>4</th>\n",
       "      <td>worry</td>\n",
       "      <td>sure tweet back news abuzz knight leaving toda...</td>\n",
       "    </tr>\n",
       "  </tbody>\n",
       "</table>\n",
       "</div>"
      ],
      "text/plain": [
       "   emotion                                               text\n",
       "0  sadness  cal dachshund rescue found home foster pup max...\n",
       "1    anger  grandmother brother taken active part resistan...\n",
       "2  neutral                    yesh potato guy online hes live\n",
       "3  sadness          sadly bprohibiting tweeting tonight sorry\n",
       "4    worry  sure tweet back news abuzz knight leaving toda..."
      ]
     },
     "execution_count": 16,
     "metadata": {},
     "output_type": "execute_result"
    }
   ],
   "source": [
    "dataset['text'] = dataset['text'].map(lambda x: preprocess_tweet(x))\n",
    "dataset.head()"
   ]
  },
  {
   "cell_type": "code",
   "execution_count": 17,
   "metadata": {
    "collapsed": true
   },
   "outputs": [],
   "source": [
    "def plot_model(history):\n",
    "    # Plot training & validation accuracy values\n",
    "    acc = history.history['acc']\n",
    "    val_acc = history.history['val_acc']\n",
    "    loss = history.history['loss']\n",
    "    val_loss = history.history['val_loss']\n",
    "    x = range(1, len(acc) + 1)\n",
    "\n",
    "    plt.figure(figsize=(12, 5))\n",
    "    plt.subplot(1, 2, 1)\n",
    "    plt.plot(x, acc, 'b', label='Training acc')\n",
    "    plt.plot(x, val_acc, 'r', label='Validation acc')\n",
    "    plt.title('Training and validation accuracy')\n",
    "    plt.legend()\n",
    "    plt.subplot(1, 2, 2)\n",
    "    plt.plot(x, loss, 'b', label='Training loss')\n",
    "    plt.plot(x, val_loss, 'r', label='Validation loss')\n",
    "    plt.title('Training and validation loss')\n",
    "    plt.legend()\n"
   ]
  },
  {
   "cell_type": "code",
   "execution_count": 18,
   "metadata": {},
   "outputs": [
    {
     "name": "stdout",
     "output_type": "stream",
     "text": [
      "['anger' 'happiness' 'hate' 'neutral' 'sadness' 'surprise' 'worry']\n"
     ]
    }
   ],
   "source": [
    "label_encoder = LabelEncoder()\n",
    "encoded_label = label_encoder.fit_transform(emotion)\n",
    "\n",
    "print(label_encoder.classes_)\n",
    "\n",
    "label_OneHotEncoder = OneHotEncoder()\n",
    "encoded_label = label_OneHotEncoder.fit_transform(encoded_label.reshape(-1,1)).toarray()"
   ]
  },
  {
   "cell_type": "code",
   "execution_count": 19,
   "metadata": {
    "collapsed": true
   },
   "outputs": [],
   "source": [
    "vocabulary_size = 10000\n",
    "input_length = 100"
   ]
  },
  {
   "cell_type": "code",
   "execution_count": 20,
   "metadata": {
    "collapsed": true
   },
   "outputs": [],
   "source": [
    "tokenizer = Tokenizer(num_words= vocabulary_size)\n",
    "tokenizer.fit_on_texts(dataset['text'])\n",
    "sequences = tokenizer.texts_to_sequences(dataset['text'])\n",
    "data = pad_sequences(sequences, maxlen = input_length)"
   ]
  },
  {
   "cell_type": "code",
   "execution_count": 21,
   "metadata": {
    "collapsed": true
   },
   "outputs": [],
   "source": [
    "train_data, test_data, train_label, test_label = train_test_split(data, encoded_label, test_size = 0.2)"
   ]
  },
  {
   "cell_type": "code",
   "execution_count": 22,
   "metadata": {
    "collapsed": true
   },
   "outputs": [],
   "source": [
    "num_classes = len(class_values)\n",
    "validation_split = 0.1"
   ]
  },
  {
   "cell_type": "code",
   "execution_count": 23,
   "metadata": {
    "collapsed": true
   },
   "outputs": [],
   "source": [
    "output_dim = 1000\n",
    "dense_input = 1000\n",
    "\n",
    "l1_dropout = 0.2\n",
    "l1_recurrent_dropout = 0.2\n",
    "\n",
    "l2_dropout = 0.2\n",
    "l2_recurrent_dropout = 0.2\n",
    "\n",
    "l1_lstm_units = 32\n",
    "l2_lstm_units = 64\n",
    "\n",
    "validation_split = 0.2\n",
    "epochs = 20\n",
    "\n",
    "callback_patience = 3"
   ]
  },
  {
   "cell_type": "code",
   "execution_count": 24,
   "metadata": {
    "collapsed": true
   },
   "outputs": [],
   "source": [
    "callback = [EarlyStopping(monitor='val_loss', patience = callback_patience)]"
   ]
  },
  {
   "cell_type": "code",
   "execution_count": 25,
   "metadata": {
    "collapsed": true
   },
   "outputs": [],
   "source": [
    "model = Sequential()\n",
    "\n",
    "model.add(Embedding(vocabulary_size, dense_input, input_length = input_length))\n",
    "model.add(Dense(dense_input, activation='tanh'))\n",
    "\n",
    "model.add(LSTM(l1_lstm_units, dropout = l1_dropout, recurrent_dropout = l1_recurrent_dropout, \n",
    "                             return_sequences = True, activation='tanh'))\n",
    "model.add(LSTM(l2_lstm_units, dropout = l2_dropout, recurrent_dropout = l2_recurrent_dropout, \n",
    "                             return_sequences = False, activation='tanh'))\n",
    "\n",
    "model.add(Dense(num_classes, activation='softmax'))\n",
    "\n",
    "model.compile(loss='binary_crossentropy', optimizer='adam', metrics=['accuracy'])"
   ]
  },
  {
   "cell_type": "code",
   "execution_count": 26,
   "metadata": {},
   "outputs": [
    {
     "name": "stdout",
     "output_type": "stream",
     "text": [
      "_________________________________________________________________\n",
      "Layer (type)                 Output Shape              Param #   \n",
      "=================================================================\n",
      "embedding (Embedding)        (None, 100, 1000)         10000000  \n",
      "_________________________________________________________________\n",
      "dense (Dense)                (None, 100, 1000)         1001000   \n",
      "_________________________________________________________________\n",
      "lstm (LSTM)                  (None, 100, 32)           132224    \n",
      "_________________________________________________________________\n",
      "lstm_1 (LSTM)                (None, 64)                24832     \n",
      "_________________________________________________________________\n",
      "dense_1 (Dense)              (None, 7)                 455       \n",
      "=================================================================\n",
      "Total params: 11,158,511\n",
      "Trainable params: 11,158,511\n",
      "Non-trainable params: 0\n",
      "_________________________________________________________________\n"
     ]
    }
   ],
   "source": [
    "model.summary()"
   ]
  },
  {
   "cell_type": "code",
   "execution_count": 27,
   "metadata": {},
   "outputs": [
    {
     "name": "stderr",
     "output_type": "stream",
     "text": [
      "D:\\Anaconda3\\lib\\site-packages\\tensorflow\\python\\ops\\gradients_impl.py:112: UserWarning: Converting sparse IndexedSlices to a dense Tensor of unknown shape. This may consume a large amount of memory.\n",
      "  \"Converting sparse IndexedSlices to a dense Tensor of unknown shape. \"\n"
     ]
    },
    {
     "name": "stdout",
     "output_type": "stream",
     "text": [
      "Train on 4480 samples, validate on 1120 samples\n",
      "Epoch 1/20\n",
      "4480/4480 [==============================] - 114s 25ms/step - loss: 0.3834 - acc: 0.8629 - val_loss: 0.3577 - val_acc: 0.8694\n",
      "Epoch 2/20\n",
      "4480/4480 [==============================] - 110s 24ms/step - loss: 0.3091 - acc: 0.8801 - val_loss: 0.3762 - val_acc: 0.8610\n",
      "Epoch 3/20\n",
      "4480/4480 [==============================] - 113s 25ms/step - loss: 0.2248 - acc: 0.9069 - val_loss: 0.4177 - val_acc: 0.8506\n",
      "Epoch 4/20\n",
      "4480/4480 [==============================] - 115s 26ms/step - loss: 0.1654 - acc: 0.9357 - val_loss: 0.4781 - val_acc: 0.8353\n"
     ]
    },
    {
     "data": {
      "image/png": "[encoded data removed]",
      "text/plain": [
       "<Figure size 864x360 with 2 Axes>"
      ]
     },
     "metadata": {},
     "output_type": "display_data"
    }
   ],
   "source": [
    "history = model.fit(train_data, train_label, validation_split = validation_split, epochs=epochs, \n",
    "                    shuffle = True, callbacks = callback)\n",
    "\n",
    "plot_model(history)"
   ]
  },
  {
   "cell_type": "code",
   "execution_count": 28,
   "metadata": {},
   "outputs": [
    {
     "name": "stdout",
     "output_type": "stream",
     "text": [
      "1400/1400 [==============================] - 12s 8ms/step\n"
     ]
    },
    {
     "data": {
      "text/plain": [
       "[0.4690259427683694, 0.8375510246413095]"
      ]
     },
     "execution_count": 28,
     "metadata": {},
     "output_type": "execute_result"
    }
   ],
   "source": [
    "model.evaluate(test_data, test_label, verbose = 1)"
   ]
  },
  {
   "cell_type": "code",
   "execution_count": 29,
   "metadata": {
    "collapsed": true
   },
   "outputs": [],
   "source": [
    "output_dim = 100\n",
    "dense_input = 1000\n",
    "\n",
    "dropout = 0.3\n",
    "\n",
    "conv1D_filters = 100\n",
    "conv1D_kernel_size = 5\n",
    "\n",
    "pool_size = 4\n",
    "\n",
    "l1_dropout = 0.2\n",
    "l1_recurrent_dropout = 0.2\n",
    "\n",
    "l2_dropout = 0.2\n",
    "l2_recurrent_dropout = 0.2\n",
    "\n",
    "l1_lstm_units = 64\n",
    "l2_lstm_units = 32"
   ]
  },
  {
   "cell_type": "code",
   "execution_count": 30,
   "metadata": {
    "collapsed": true
   },
   "outputs": [],
   "source": [
    "model_conv = Sequential()\n",
    "\n",
    "model_conv.add(Embedding(vocabulary_size, output_dim, input_length = input_length, trainable=False))\n",
    "model_conv.add(Dropout(dropout))\n",
    "model_conv.add(Dense(output_dim, activation='tanh'))\n",
    "\n",
    "model_conv.add(Conv1D(filters = conv1D_filters, kernel_size = conv1D_kernel_size, activation = 'relu'))\n",
    "model_conv.add(MaxPooling1D(pool_size = pool_size))\n",
    "\n",
    "model_conv.add(LSTM(l1_lstm_units , dropout = l1_dropout, return_sequences=True, activation='tanh'))\n",
    "model_conv.add(LSTM(l2_lstm_units , dropout = l2_dropout, return_sequences=False, activation='relu'))\n",
    "\n",
    "model_conv.add(Dense(num_classes, activation='softmax'))\n",
    "model_conv.compile(loss='binary_crossentropy', optimizer='nadam', metrics=['accuracy'])"
   ]
  },
  {
   "cell_type": "code",
   "execution_count": 31,
   "metadata": {},
   "outputs": [
    {
     "name": "stdout",
     "output_type": "stream",
     "text": [
      "_________________________________________________________________\n",
      "Layer (type)                 Output Shape              Param #   \n",
      "=================================================================\n",
      "embedding_1 (Embedding)      (None, 100, 100)          1000000   \n",
      "_________________________________________________________________\n",
      "dropout (Dropout)            (None, 100, 100)          0         \n",
      "_________________________________________________________________\n",
      "dense_2 (Dense)              (None, 100, 100)          10100     \n",
      "_________________________________________________________________\n",
      "conv1d (Conv1D)              (None, 96, 100)           50100     \n",
      "_________________________________________________________________\n",
      "max_pooling1d (MaxPooling1D) (None, 24, 100)           0         \n",
      "_________________________________________________________________\n",
      "lstm_2 (LSTM)                (None, 24, 64)            42240     \n",
      "_________________________________________________________________\n",
      "lstm_3 (LSTM)                (None, 32)                12416     \n",
      "_________________________________________________________________\n",
      "dense_3 (Dense)              (None, 7)                 231       \n",
      "=================================================================\n",
      "Total params: 1,115,087\n",
      "Trainable params: 115,087\n",
      "Non-trainable params: 1,000,000\n",
      "_________________________________________________________________\n"
     ]
    }
   ],
   "source": [
    "model_conv.summary()"
   ]
  },
  {
   "cell_type": "code",
   "execution_count": 32,
   "metadata": {},
   "outputs": [
    {
     "name": "stdout",
     "output_type": "stream",
     "text": [
      "Train on 4480 samples, validate on 1120 samples\n",
      "Epoch 1/20\n",
      "4480/4480 [==============================] - 36s 8ms/step - loss: 0.4078 - acc: 0.8578 - val_loss: 0.4007 - val_acc: 0.8599\n",
      "Epoch 2/20\n",
      "4480/4480 [==============================] - 26s 6ms/step - loss: 0.4010 - acc: 0.8591 - val_loss: 0.3963 - val_acc: 0.8602\n",
      "Epoch 3/20\n",
      "4480/4480 [==============================] - 26s 6ms/step - loss: 0.3970 - acc: 0.8600 - val_loss: 0.3954 - val_acc: 0.8608\n",
      "Epoch 4/20\n",
      "4480/4480 [==============================] - 27s 6ms/step - loss: 0.3952 - acc: 0.8607 - val_loss: 0.3925 - val_acc: 0.8615\n",
      "Epoch 5/20\n",
      "4480/4480 [==============================] - 25s 6ms/step - loss: 0.3933 - acc: 0.8614 - val_loss: 0.3935 - val_acc: 0.8619\n",
      "Epoch 6/20\n",
      "4480/4480 [==============================] - 26s 6ms/step - loss: 0.3910 - acc: 0.8623 - val_loss: 0.3892 - val_acc: 0.8629\n",
      "Epoch 7/20\n",
      "4480/4480 [==============================] - 24s 5ms/step - loss: 0.3878 - acc: 0.8630 - val_loss: 0.3886 - val_acc: 0.8626\n",
      "Epoch 8/20\n",
      "4480/4480 [==============================] - 23s 5ms/step - loss: 0.3851 - acc: 0.8642 - val_loss: 0.3884 - val_acc: 0.8634\n",
      "Epoch 9/20\n",
      "4480/4480 [==============================] - 23s 5ms/step - loss: 0.3836 - acc: 0.8639 - val_loss: 0.3861 - val_acc: 0.8640\n",
      "Epoch 10/20\n",
      "4480/4480 [==============================] - 23s 5ms/step - loss: 0.3808 - acc: 0.8646 - val_loss: 0.3876 - val_acc: 0.8626\n",
      "Epoch 11/20\n",
      "4480/4480 [==============================] - 22s 5ms/step - loss: 0.3795 - acc: 0.8647 - val_loss: 0.3836 - val_acc: 0.8642\n",
      "Epoch 12/20\n",
      "4480/4480 [==============================] - 22s 5ms/step - loss: 0.3772 - acc: 0.8649 - val_loss: 0.3846 - val_acc: 0.8636\n",
      "Epoch 13/20\n",
      "4480/4480 [==============================] - 23s 5ms/step - loss: 0.3731 - acc: 0.8663 - val_loss: 0.3851 - val_acc: 0.8634\n",
      "Epoch 14/20\n",
      "4480/4480 [==============================] - 23s 5ms/step - loss: 0.3724 - acc: 0.8662 - val_loss: 0.3897 - val_acc: 0.8628\n"
     ]
    },
    {
     "data": {
      "image/png": "[encoded data removed]",
      "text/plain": [
       "<Figure size 864x360 with 2 Axes>"
      ]
     },
     "metadata": {},
     "output_type": "display_data"
    }
   ],
   "source": [
    "history = model_conv.fit(train_data, train_label, validation_split = validation_split, epochs = epochs, \n",
    "                         shuffle = True, callbacks = callback)\n",
    "\n",
    "plot_model(history)"
   ]
  },
  {
   "cell_type": "code",
   "execution_count": 33,
   "metadata": {
    "collapsed": true
   },
   "outputs": [],
   "source": [
    "embeddings_index = dict()\n",
    "f = open(glove_dir, encoding=\"utf8\")\n",
    "for line in f:\n",
    "    values = line.split()\n",
    "    word = values[0]\n",
    "    coefs = np.asarray(values[1:], dtype='float32')\n",
    "    embeddings_index[word] = coefs\n",
    "f.close()"
   ]
  },
  {
   "cell_type": "code",
   "execution_count": 34,
   "metadata": {
    "collapsed": true
   },
   "outputs": [],
   "source": [
    "embedding_matrix = np.zeros((vocabulary_size, output_dim))\n",
    "for word, index in tokenizer.word_index.items():\n",
    "    if index > vocabulary_size - 1:\n",
    "        break\n",
    "    else:\n",
    "        embedding_vector = embeddings_index.get(word)\n",
    "        if embedding_vector is not None:\n",
    "            embedding_matrix[index] = embedding_vector"
   ]
  },
  {
   "cell_type": "code",
   "execution_count": 35,
   "metadata": {
    "collapsed": true
   },
   "outputs": [],
   "source": [
    "output_dim = 100\n",
    "dense_input = 1000\n",
    "\n",
    "dropout = 0.3\n",
    "\n",
    "conv1D_filters = 100\n",
    "conv1D_kernel_size = 4\n",
    "\n",
    "pool_size = 5\n",
    "\n",
    "l1_dropout = 0.2\n",
    "l1_recurrent_dropout = 0.2\n",
    "\n",
    "l2_dropout = 0.2\n",
    "l2_recurrent_dropout = 0.2\n",
    "\n",
    "l1_lstm_units = 64\n",
    "l2_lstm_units = 32"
   ]
  },
  {
   "cell_type": "code",
   "execution_count": 36,
   "metadata": {
    "collapsed": true
   },
   "outputs": [],
   "source": [
    "model_glove = Sequential()\n",
    "model_glove.add(Embedding(vocabulary_size, output_dim, input_length = input_length, \n",
    "                          weights=[embedding_matrix], trainable=False))\n",
    "model_glove.add(Dropout(dropout))\n",
    "\n",
    "model_glove.add(Conv1D(filters = conv1D_filters, kernel_size = conv1D_kernel_size, \n",
    "                       activation='tanh'))\n",
    "model_glove.add(MaxPooling1D(pool_size = pool_size))\n",
    "\n",
    "model_glove.add(LSTM(l1_lstm_units , dropout = l1_dropout,\n",
    "                     return_sequences=True, activation='tanh'))\n",
    "model_glove.add(LSTM(l2_lstm_units , dropout = l2_dropout,\n",
    "                     return_sequences=False , activation='tanh'))\n",
    "\n",
    "model_glove.add(Dense(7, activation='softmax'))\n",
    "\n",
    "model_glove.compile(loss='binary_crossentropy', optimizer='adam', metrics=['accuracy'])"
   ]
  },
  {
   "cell_type": "code",
   "execution_count": 37,
   "metadata": {},
   "outputs": [
    {
     "name": "stdout",
     "output_type": "stream",
     "text": [
      "_________________________________________________________________\n",
      "Layer (type)                 Output Shape              Param #   \n",
      "=================================================================\n",
      "embedding_2 (Embedding)      (None, 100, 100)          1000000   \n",
      "_________________________________________________________________\n",
      "dropout_1 (Dropout)          (None, 100, 100)          0         \n",
      "_________________________________________________________________\n",
      "conv1d_1 (Conv1D)            (None, 97, 100)           40100     \n",
      "_________________________________________________________________\n",
      "max_pooling1d_1 (MaxPooling1 (None, 19, 100)           0         \n",
      "_________________________________________________________________\n",
      "lstm_4 (LSTM)                (None, 19, 64)            42240     \n",
      "_________________________________________________________________\n",
      "lstm_5 (LSTM)                (None, 32)                12416     \n",
      "_________________________________________________________________\n",
      "dense_4 (Dense)              (None, 7)                 231       \n",
      "=================================================================\n",
      "Total params: 1,094,987\n",
      "Trainable params: 94,987\n",
      "Non-trainable params: 1,000,000\n",
      "_________________________________________________________________\n"
     ]
    }
   ],
   "source": [
    "model_glove.summary()"
   ]
  },
  {
   "cell_type": "code",
   "execution_count": 38,
   "metadata": {},
   "outputs": [
    {
     "name": "stdout",
     "output_type": "stream",
     "text": [
      "Train on 4480 samples, validate on 1120 samples\n",
      "Epoch 1/20\n",
      "4480/4480 [==============================] - 20s 4ms/step - loss: 0.3931 - acc: 0.8605 - val_loss: 0.3757 - val_acc: 0.8649\n",
      "Epoch 2/20\n",
      "4480/4480 [==============================] - 18s 4ms/step - loss: 0.3693 - acc: 0.8658 - val_loss: 0.3613 - val_acc: 0.8677\n",
      "Epoch 3/20\n",
      "4480/4480 [==============================] - 18s 4ms/step - loss: 0.3585 - acc: 0.8681 - val_loss: 0.3571 - val_acc: 0.8688\n",
      "Epoch 4/20\n",
      "4480/4480 [==============================] - 18s 4ms/step - loss: 0.3487 - acc: 0.8703 - val_loss: 0.3538 - val_acc: 0.8695\n",
      "Epoch 5/20\n",
      "4480/4480 [==============================] - 18s 4ms/step - loss: 0.3453 - acc: 0.8710 - val_loss: 0.3518 - val_acc: 0.8712\n",
      "Epoch 6/20\n",
      "4480/4480 [==============================] - 18s 4ms/step - loss: 0.3380 - acc: 0.8726 - val_loss: 0.3543 - val_acc: 0.8705\n",
      "Epoch 7/20\n",
      "4480/4480 [==============================] - 19s 4ms/step - loss: 0.3336 - acc: 0.8744 - val_loss: 0.3527 - val_acc: 0.8708\n",
      "Epoch 8/20\n",
      "4480/4480 [==============================] - 19s 4ms/step - loss: 0.3286 - acc: 0.8747 - val_loss: 0.3518 - val_acc: 0.8716\n",
      "Epoch 9/20\n",
      "4480/4480 [==============================] - 24s 5ms/step - loss: 0.3243 - acc: 0.8765 - val_loss: 0.3546 - val_acc: 0.8702\n",
      "Epoch 10/20\n",
      "4480/4480 [==============================] - 23s 5ms/step - loss: 0.3193 - acc: 0.8776 - val_loss: 0.3541 - val_acc: 0.8699\n",
      "Epoch 11/20\n",
      "4480/4480 [==============================] - 20s 4ms/step - loss: 0.3136 - acc: 0.8792 - val_loss: 0.3608 - val_acc: 0.8686\n"
     ]
    },
    {
     "data": {
      "image/png": "[encoded data removed]",
      "text/plain": [
       "<Figure size 864x360 with 2 Axes>"
      ]
     },
     "metadata": {},
     "output_type": "display_data"
    }
   ],
   "source": [
    "history = model_glove.fit(train_data, train_label, validation_split = validation_split, epochs = epochs, \n",
    "                          shuffle = True, callbacks = callback)\n",
    "\n",
    "plot_model(history)"
   ]
  },
  {
   "cell_type": "code",
   "execution_count": 39,
   "metadata": {},
   "outputs": [
    {
     "name": "stdout",
     "output_type": "stream",
     "text": [
      "1400/1400 [==============================] - 3s 2ms/step\n"
     ]
    },
    {
     "data": {
      "text/plain": [
       "[0.3608707627228328, 0.8675510365622384]"
      ]
     },
     "execution_count": 39,
     "metadata": {},
     "output_type": "execute_result"
    }
   ],
   "source": [
    "model_glove.evaluate(test_data, test_label, verbose = 1)"
   ]
  },
  {
   "cell_type": "code",
   "execution_count": 40,
   "metadata": {},
   "outputs": [
    {
     "data": {
      "text/plain": [
       "array([[0.08448397, 0.19723374, 0.15780073, 0.10385689, 0.13393189,\n",
       "        0.1542532 , 0.16843952]], dtype=float32)"
      ]
     },
     "execution_count": 40,
     "metadata": {},
     "output_type": "execute_result"
    }
   ],
   "source": [
    "model_conv.predict(test_data[0:1])"
   ]
  },
  {
   "cell_type": "code",
   "execution_count": 41,
   "metadata": {},
   "outputs": [
    {
     "data": {
      "text/plain": [
       "(1400, 100)"
      ]
     },
     "execution_count": 41,
     "metadata": {},
     "output_type": "execute_result"
    }
   ],
   "source": [
    "test_data.shape"
   ]
  },
  {
   "cell_type": "code",
   "execution_count": 42,
   "metadata": {},
   "outputs": [
    {
     "data": {
      "text/plain": [
       "(100,)"
      ]
     },
     "execution_count": 42,
     "metadata": {},
     "output_type": "execute_result"
    }
   ],
   "source": [
    "test_data[0].shape"
   ]
  },
  {
   "cell_type": "code",
   "execution_count": 43,
   "metadata": {
    "collapsed": true
   },
   "outputs": [],
   "source": [
    "test_text = 'I was happy but then I am not happy'\n",
    "test_text = pd.Series(test_text)\n",
    "\n",
    "sequences = tokenizer.texts_to_sequences(test_text)\n",
    "data = pad_sequences(sequences, maxlen = input_length)"
   ]
  },
  {
   "cell_type": "code",
   "execution_count": 44,
   "metadata": {},
   "outputs": [
    {
     "data": {
      "text/plain": [
       "(1, 100)"
      ]
     },
     "execution_count": 44,
     "metadata": {},
     "output_type": "execute_result"
    }
   ],
   "source": [
    "data.shape"
   ]
  },
  {
   "cell_type": "code",
   "execution_count": 45,
   "metadata": {},
   "outputs": [
    {
     "data": {
      "text/plain": [
       "array([[  0,   0,   0,   0,   0,   0,   0,   0,   0,   0,   0,   0,   0,\n",
       "          0,   0,   0,   0,   0,   0,   0,   0,   0,   0,   0,   0,   0,\n",
       "          0,   0,   0,   0,   0,   0,   0,   0,   0,   0,   0,   0,   0,\n",
       "          0,   0,   0,   0,   0,   0,   0,   0,   0,   0,   0,   0,   0,\n",
       "          0,   0,   0,   0,   0,   0,   0,   0,   0,   0,   0,   0,   0,\n",
       "          0,   0,   0,   0,   0,   0,   0,   0,   0,   0,   0,   0,   0,\n",
       "          0,   0,   0,   0,   0,   0,   0,   0,   0,   0,   0,   0,   0,\n",
       "          0,   0,   0,   0,   0,   0,   0, 125, 125]])"
      ]
     },
     "execution_count": 45,
     "metadata": {},
     "output_type": "execute_result"
    }
   ],
   "source": [
    "data"
   ]
  },
  {
   "cell_type": "code",
   "execution_count": 46,
   "metadata": {},
   "outputs": [
    {
     "data": {
      "text/plain": [
       "'happiness'"
      ]
     },
     "execution_count": 46,
     "metadata": {},
     "output_type": "execute_result"
    }
   ],
   "source": [
    "label_encoder.classes_[np.argmax(model.predict(data))]"
   ]
  },
  {
   "cell_type": "code",
   "execution_count": 47,
   "metadata": {},
   "outputs": [
    {
     "data": {
      "text/plain": [
       "'neutral'"
      ]
     },
     "execution_count": 47,
     "metadata": {},
     "output_type": "execute_result"
    }
   ],
   "source": [
    "label_encoder.classes_[np.argmax(model_conv.predict(data))]"
   ]
  },
  {
   "cell_type": "code",
   "execution_count": 48,
   "metadata": {},
   "outputs": [
    {
     "data": {
      "text/plain": [
       "'neutral'"
      ]
     },
     "execution_count": 48,
     "metadata": {},
     "output_type": "execute_result"
    }
   ],
   "source": [
    "label_encoder.classes_[np.argmax(model_glove.predict(data))]"
   ]
  },
  {
   "cell_type": "code",
   "execution_count": 49,
   "metadata": {},
   "outputs": [
    {
     "name": "stdout",
     "output_type": "stream",
     "text": [
      "['anger' 'happiness' 'hate' 'neutral' 'sadness' 'surprise' 'worry']\n"
     ]
    }
   ],
   "source": [
    "print(label_encoder.classes_)"
   ]
  },
  {
   "cell_type": "code",
   "execution_count": null,
   "metadata": {
    "collapsed": true
   },
   "outputs": [],
   "source": []
  }
 ],
 "metadata": {
  "kernelspec": {
   "display_name": "Python 3",
   "language": "python",
   "name": "python3"
  },
  "language_info": {
   "codemirror_mode": {
    "name": "ipython",
    "version": 3
   },
   "file_extension": ".py",
   "mimetype": "text/x-python",
   "name": "python",
   "nbconvert_exporter": "python",
   "pygments_lexer": "ipython3",
   "version": "3.6.3"
  }
 },
 "nbformat": 4,
 "nbformat_minor": 2
}
